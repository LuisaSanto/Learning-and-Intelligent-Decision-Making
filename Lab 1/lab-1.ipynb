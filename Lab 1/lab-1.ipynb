{
 "cells": [
  {
   "cell_type": "markdown",
   "metadata": {},
   "source": [
    "# Learning and Decision Making"
   ]
  },
  {
   "cell_type": "markdown",
   "metadata": {},
   "source": [
    "## Laboratory 2: Markov chains\n",
    "\n",
    "In the end of the lab, you should submit all code/answers written in the tasks marked as \"Activity n. XXX\", together with the corresponding outputs and any replies to specific questions posed to the e-mail <adi.tecnico@gmail.com>. Make sure that the subject is of the form [&lt;group n.&gt;] LAB &lt;lab n.&gt;.\n",
    "\n",
    "### 1. Modeling\n",
    "\n",
    "Consider once again the simplified Trivial game described in the Homework and for which you wrote a Markov chain model:\n",
    "\n",
    "<img src=\"trivial.png\" width=\"400px\">\n",
    "\n",
    "Recall that your chain should describe a single player, where: \n",
    "\n",
    "* The player rolls a single die in each play; \n",
    "* At each intersection, the player continues along any of the possible intersecting paths with equal probability. "
   ]
  },
  {
   "cell_type": "markdown",
   "metadata": {},
   "source": [
    "---\n",
    "\n",
    "#### Activity 1.        \n",
    "\n",
    "Implement your Markov chain model in Python. In particular,\n",
    "\n",
    "* Create a list with all the states;\n",
    "* Define a `numpy` array with the corresponding transition probabilities.\n",
    "\n",
    "The order for the states used in the transition probability matrix should match that in the list of states. \n",
    "\n",
    "**Note 1**: Don't forget to import `numpy`. If you need additional matrix operations (such as matrix powers or eigenvalues and eigenvectors), you may also import the library `numpy.linalg`.\n",
    "\n",
    "**Note 2**: Make sure to print the result in the end.\n",
    "\n",
    "---"
   ]
  },
  {
   "cell_type": "code",
   "execution_count": 1,
   "metadata": {},
   "outputs": [
    {
     "name": "stdout",
     "output_type": "stream",
     "text": [
      "O espaço de estados é: [0, 1, 2, 3, 4, 5, 6, 7, 8, 9]\n",
      "\n",
      "A matrix de transição é:\n",
      "[ 0.19  0.12  0.1   0.04  0.1   0.12  0.12  0.04  0.04  0.1 ]\n",
      "[ 0.19  0.12  0.19  0.08  0.06  0.08  0.08  0.08  0.04  0.06]\n",
      "[ 0.1   0.12  0.19  0.12  0.1   0.04  0.04  0.12  0.04  0.1 ]\n",
      "[ 0.06  0.08  0.19  0.12  0.19  0.08  0.04  0.08  0.08  0.06]\n",
      "[ 0.1   0.04  0.1   0.12  0.19  0.12  0.04  0.04  0.12  0.1 ]\n",
      "[ 0.19  0.08  0.06  0.08  0.19  0.12  0.08  0.04  0.08  0.06]\n",
      "[ 0.19  0.08  0.06  0.04  0.06  0.08  0.12  0.08  0.08  0.19]\n",
      "[ 0.06  0.08  0.19  0.08  0.06  0.04  0.08  0.12  0.08  0.19]\n",
      "[ 0.06  0.04  0.06  0.08  0.19  0.08  0.08  0.08  0.12  0.19]\n",
      "[ 0.1   0.04  0.1   0.04  0.1   0.04  0.12  0.12  0.12  0.19]\n"
     ]
    }
   ],
   "source": [
    "import numpy as np\n",
    "from numpy import linalg as LA\n",
    "\n",
    "# Cria o espaço de estados. Uma lista com numeros de 0 a 9.\n",
    "# Vamos considerar a disposição das casas como a que foi tida\n",
    "# em consideração no TPC 1, sendo que para simplificar, aqui\n",
    "# começa no zero.\n",
    "def generate_states():\n",
    "    space_state = []\n",
    "    for i in range(0, 10):\n",
    "        space_state.append(i)\n",
    "        \n",
    "    return space_state\n",
    "\n",
    "# Cria a matriz de probabilidade de transição de acordo com,\n",
    "# a disposição, apresentada no TPC 1.\n",
    "def generate_P():\n",
    "    p1 =    [\n",
    "            [0, 1 / 3, 0, 0, 0, 1 / 3, 1 / 3, 0, 0, 0],\n",
    "            [1 / 2, 0, 1 / 2, 0, 0, 0, 0, 0, 0, 0],\n",
    "            [0, 1 / 3, 0, 1 / 3, 0, 0, 0, 1 / 3, 0, 0],\n",
    "            [0, 0, 1 / 2, 0, 1 / 2, 0, 0, 0, 0, 0],\n",
    "            [0, 0, 0, 1 / 3, 0, 1 / 3, 0, 0, 1 / 3, 0],\n",
    "            [1 / 2, 0, 0, 0, 1 / 2, 0, 0, 0, 0, 0],\n",
    "            [1 / 2, 0, 0, 0, 0, 0, 0, 0, 0, 1 / 2],\n",
    "            [0, 0, 1 / 2, 0, 0, 0, 0, 0, 0, 1 / 2],\n",
    "            [0, 0, 0, 0, 1 / 2, 0, 0, 0, 0, 1 / 2],\n",
    "            [0, 0, 0, 0, 0, 0, 1 / 3, 1 / 3, 1 / 3, 0],\n",
    "            ]\n",
    "    p1 = np.array(p1)\n",
    "    \n",
    "    result = np.zeros((10, 10))\n",
    "    \n",
    "    for i in range(1, 7):\n",
    "        result = np.add(result, LA.matrix_power(p1, i))\n",
    "\n",
    "    result = result/6\n",
    "\n",
    "    return result\n",
    "\n",
    "# Cria um dicionario com o espaço de estados e a matriz\n",
    "# de transição.\n",
    "def make_markov_chain(states, t_pb):\n",
    "    mark_chain = {\"X\": states,\n",
    "                  \"T-PB\": t_pb}\n",
    "    \n",
    "    return mark_chain\n",
    "\n",
    "# Imprime a matriz de transição, com duas casas de precisão.\n",
    "def print_matrix(matrix):\n",
    "    np.set_printoptions(precision=2)\n",
    "    for line in matrix:\n",
    "        print(line)\n",
    "\n",
    "X = generate_states()\n",
    "P = generate_P()\n",
    "\n",
    "markov_chain = make_markov_chain(X,P)\n",
    "\n",
    "\n",
    "print(\"O espaço de estados é: {}\\n\".format(markov_chain.get(\"X\")))\n",
    "\n",
    "print(\"A matrix de transição é:\")\n",
    "\n",
    "print_matrix(markov_chain.get(\"T-PB\"))"
   ]
  },
  {
   "cell_type": "markdown",
   "metadata": {},
   "source": [
    "---\n",
    "\n",
    "#### Activity 2.\n",
    "\n",
    "Compute the probability of the following trajectories:\n",
    "\n",
    "* \"Pink with pie piece\" - \"Green in outer rim\" - \"Blue with pie slice\" - \"Pink in outer rim\"\n",
    "* \"Pink with pie piece\" - \"Pink with pie piece\" - \"Blue in outer rim\"\n",
    "* \"Center\" - \"Pink with pie piece\" - \"Blue in outer rim\"\n",
    "\n",
    "**Note:** Make sure to print the result in the end.\n",
    "\n",
    "---"
   ]
  },
  {
   "cell_type": "code",
   "execution_count": 2,
   "metadata": {},
   "outputs": [
    {
     "name": "stdout",
     "output_type": "stream",
     "text": [
      "A resposta para o 1º caminho: 0.0014111568387671517\n",
      "A resposta para o 2º caminho: 0.01662461119860906\n",
      "A resposta para o 3º caminho: 0.009420613012545133\n",
      "\n"
     ]
    }
   ],
   "source": [
    "# Recebe uma matriz e devolve a matriz apos\n",
    "# t iteraçoes\n",
    "def transition_prob_at_t(matrix, t):\n",
    "    return LA.matrix_power(matrix, t)\n",
    "\n",
    "# Recebe uma matriz e vai buscar a linha (start)\n",
    "# e a coluna (end), correspondente à transição\n",
    "def get_probs(matrix, start, end):\n",
    "    return matrix[start][end]\n",
    "\n",
    "# Recebe um caminho e uma cadeira de markov\n",
    "# devolve a probabilidade desse caminho acontecer.\n",
    "def compute_path(path, markov):\n",
    "    max_len = len(path)\n",
    "    i = 0\n",
    "    t = 1\n",
    "    result = 1\n",
    "    \n",
    "    # Itera sobre todas as posições do caminho ate\n",
    "    # chegar ao fim.\n",
    "    while i+1 < max_len:\n",
    "        result = result * get_probs(transition_prob_at_t(markov.get(\"T-PB\"), t), path[i], path[i+1])\n",
    "        i += 1\n",
    "        t += 1 # corresponde a passar para proxima jogada na matriz de transiçãp\n",
    "\n",
    "    return result\n",
    "\n",
    "# fist path\n",
    "a = [0, 1, 2, 3]\n",
    "r_a = compute_path(a, markov_chain)\n",
    "\n",
    "# second path\n",
    "b = [0, 0, 5]\n",
    "r_b = compute_path(b, markov_chain)\n",
    "\n",
    "# third path\n",
    "c = [9, 0, 5]\n",
    "r_c = compute_path(c, markov_chain)\n",
    "\n",
    "print(\"A resposta para o 1º caminho: {}\\n\\\n",
    "A resposta para o 2º caminho: {}\\n\\\n",
    "A resposta para o 3º caminho: {}\\n\".format(r_a, r_b, r_c))"
   ]
  },
  {
   "cell_type": "markdown",
   "metadata": {},
   "source": [
    "### 2. Stability"
   ]
  },
  {
   "cell_type": "markdown",
   "metadata": {},
   "source": [
    "---\n",
    "\n",
    "#### Activity 3.\n",
    "\n",
    "Justify whether the chain implemented in Activity #1 is:\n",
    "\n",
    "* Irreducible\n",
    "* Aperiodic\n",
    "* Ergodic\n",
    "\n",
    "---"
   ]
  },
  {
   "cell_type": "markdown",
   "metadata": {},
   "source": [
    "É irredutivel, pois como é possivel verificar-se pela matriz de transição, não existem entradas nulas, isto é, conseguesse chegar a todos os estados. \n",
    "\n",
    "É aperiodico, pois existem multiplos caminhos que tornam possivel voltar ao mesmo estado. Isto faz com que o minimo divisor comum entre todos os caminhos possiveis, seja 1 (mdc = 1).\n",
    "\n",
    "Como é aperiodico e irredutivel é por definição, Ergódico"
   ]
  },
  {
   "cell_type": "markdown",
   "metadata": {},
   "source": [
    "---\n",
    "\n",
    "#### Activity 4\n",
    "\n",
    "Compute the stationary distribution for the chain.\n",
    "\n",
    "**Note:** The stationary distribution is a *left* eigenvector of the transition probability matrix associated to the eigenvalue 1. As such, you may find useful the numpy function `numpy.linalg.eig`. Also, recall that the stationary distribution is *a distribution*.\n",
    "\n",
    "---"
   ]
  },
  {
   "cell_type": "code",
   "execution_count": 4,
   "metadata": {},
   "outputs": [
    {
     "name": "stdout",
     "output_type": "stream",
     "text": [
      "Ao valor proprio 1, esta associado o seguinte vector:\n",
      "[ 0.13  0.08  0.12  0.08  0.12  0.08  0.08  0.08  0.08  0.12]\n"
     ]
    }
   ],
   "source": [
    "# Dada uma matriz, qual o valor proprio que se deseja,\n",
    "# devolve o vector que corresponde ao valor proprio.\n",
    "def stationary_distribution(matrix, eigenvalue):\n",
    "    eign_val, eign_vect = LA.eig(matrix.T) # Como a função devolve com base na direita, é preciso transpor a matriz\n",
    "    \n",
    "    return np.real(eign_vect[:,eigenvalue]) # Corta a coluna consoante a matriz correspondente\n",
    "\n",
    "eigenVector = stationary_distribution(markov_chain.get(\"T-PB\"), 0)\n",
    "\n",
    "eigenVector = eigenVector/eigenVector.sum()\n",
    "\n",
    "print(\"Ao valor proprio 1, esta associado o seguinte vector:\\n{}\".format(eigenVector))"
   ]
  },
  {
   "cell_type": "markdown",
   "metadata": {},
   "source": [
    "### 3. Simulation\n",
    "\n",
    "You are now going to *simulate* the Markov chain that you defined in Question #1."
   ]
  },
  {
   "cell_type": "markdown",
   "metadata": {},
   "source": [
    "---\n",
    "\n",
    "#### Activity 5\n",
    "\n",
    "Generate a 10,000-step long trajectory of the chain defined in Activity #1. \n",
    "\n",
    "---"
   ]
  },
  {
   "cell_type": "code",
   "execution_count": 6,
   "metadata": {},
   "outputs": [
    {
     "name": "stdout",
     "output_type": "stream",
     "text": [
      "Caminho e frequencia de casa estado calculado\n",
      "Frequencia é: [ 0.12  0.09  0.12  0.08  0.12  0.09  0.08  0.09  0.08  0.13]\n"
     ]
    }
   ],
   "source": [
    "# Considerou-se que o caminho começou no zero.\n",
    "def simulate_trajectory(markov_Chain):\n",
    "    num_of_steps = 10000 # Numero de iteraçoes\n",
    "    path = [0] # Considerou-se que começa no zero\n",
    "\n",
    "    i = 0\n",
    "    X = markov_Chain.get(\"X\")\n",
    "    P = markov_Chain.get(\"T-PB\")\n",
    "    \n",
    "    while i < num_of_steps:\n",
    "        last_pick = path[-1]\n",
    "\n",
    "        # Consideremos que o jogador começa sempre no estado 0 na primeira iteracao.\n",
    "        # Depois toma decisao com base na ultima casa escolhida\n",
    "        next_house = np.random.choice(X, 1, p=P[last_pick])\n",
    "        path.append(next_house[0])\n",
    "\n",
    "        i += 1\n",
    "\n",
    "    frequencia = np.zeros(len(X)) # Inicializa um vector a zeros com base no espaço de estados\n",
    "\n",
    "    for el in path:\n",
    "        frequencia[el] += 1 # Conta o numero de vezes que uma dada casa saio\n",
    "\n",
    "    frequencia = frequencia / frequencia.sum() # Coloca em frequencias\n",
    "\n",
    "    return path, frequencia\n",
    "\n",
    "path, freq = simulate_trajectory(markov_chain)\n",
    "\n",
    "print(\"Caminho e frequencia de casa estado calculado\")\n",
    "print(\"Frequencia é: {}\".format(freq))"
   ]
  },
  {
   "cell_type": "markdown",
   "metadata": {},
   "source": [
    "---\n",
    "\n",
    "#### Activity 6\n",
    "\n",
    "Draw a histogram of the trajectory generated in Activity #5. Make sure that the histogram has one bin for each state. Compare the relative frequencies with the result of Activity #4.\n",
    "\n",
    "**Note**: Don't forget to load `matplotlib`.\n",
    "\n",
    "---"
   ]
  },
  {
   "cell_type": "code",
   "execution_count": 8,
   "metadata": {},
   "outputs": [
    {
     "data": {
      "image/png": "[encoded data removed]",
      "text/plain": [
       "<matplotlib.figure.Figure at 0x8a06430>"
      ]
     },
     "metadata": {},
     "output_type": "display_data"
    }
   ],
   "source": [
    "import pylab as plt\n",
    "\n",
    "def display_graph():\n",
    "    fig, axes = plt.subplots(1, 1)\n",
    "    ax = axes\n",
    "    X = markov_chain.get(\"X\")\n",
    "\n",
    "    ax.bar(X, freq, align=\"center\", alpha=0.75)\n",
    "    ax.set_xticks(X)\n",
    "    \n",
    "    plt.plot(eigenVector,\"ko\")\n",
    "\n",
    "    plt.xlabel(\"Estados\")\n",
    "    plt.ylabel(\"Frequencia\")\n",
    "    plt.title(\"Actividade 5 - Trajetoria teorica VS Pratico \")\n",
    "\n",
    "    plt.grid(True)\n",
    "\n",
    "    plt.show()\n",
    "\n",
    "display_graph()"
   ]
  },
  {
   "cell_type": "code",
   "execution_count": 11,
   "metadata": {},
   "outputs": [
    {
     "name": "stdout",
     "output_type": "stream",
     "text": [
      "RESPOSTA:\n",
      "\n",
      "\n",
      "Como é possivel visualizar, com base na actividade 5, obtevesse um resultado bastante proximo do calculado na actividade 4.\n",
      "A frequencia em 4 foi de [ 0.13  0.08  0.12  0.08  0.12  0.08  0.08  0.08  0.08  0.12]\n",
      "A frequencia em 5 foi de [ 0.12  0.09  0.12  0.08  0.12  0.09  0.08  0.09  0.08  0.13]\n",
      "Comprovando desta forma o que era suposto acontecer, isto é, para que valores iria estacionar.\n"
     ]
    }
   ],
   "source": [
    "print(\"RESPOSTA:\\n\\n\")\n",
    "print(\"Como é possivel visualizar, com base na actividade 5, obtevesse um resultado bastante proximo do calculado na actividade 4.\\n\\\n",
    "A frequencia em 4 foi de {}\\n\\\n",
    "A frequencia em 5 foi de {}\\n\\\n",
    "Comprovando desta forma o que era suposto acontecer, isto é, para que valores iria estacionar.\".format(eigenVector, freq))"
   ]
  },
  {
   "cell_type": "code",
   "execution_count": null,
   "metadata": {},
   "outputs": [],
   "source": []
  }
 ],
 "metadata": {
  "kernelspec": {
   "display_name": "Python 3",
   "language": "python",
   "name": "python3"
  },
  "language_info": {
   "codemirror_mode": {
    "name": "ipython",
    "version": 3
   },
   "file_extension": ".py",
   "mimetype": "text/x-python",
   "name": "python",
   "nbconvert_exporter": "python",
   "pygments_lexer": "ipython3",
   "version": "3.6.3"
  }
 },
 "nbformat": 4,
 "nbformat_minor": 1
}
